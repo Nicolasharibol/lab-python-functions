{
 "cells": [
  {
   "cell_type": "markdown",
   "id": "25d7736c-ba17-4aff-b6bb-66eba20fbf4e",
   "metadata": {},
   "source": [
    "# Lab | Functions"
   ]
  },
  {
   "cell_type": "markdown",
   "id": "0c581062-8967-4d93-b06e-62833222f930",
   "metadata": {
    "tags": []
   },
   "source": [
    "## Exercise: Managing Customer Orders with Functions\n",
    "\n",
    "In the previous exercise, you improved the code for managing customer orders by using loops and flow control. Now, let's take it a step further and refactor the code by introducing functions.\n",
    "\n",
    "Follow the steps below to complete the exercise:\n",
    "\n",
    "1. Define a function named `initialize_inventory` that takes `products` as a parameter. Inside the function, implement the code for initializing the inventory dictionary using a loop and user input.\n",
    "\n",
    "2. Define a function named `get_customer_orders` that takes no parameters. Inside the function, implement the code for prompting the user to enter the product names using a loop. The function should return the `customer_orders` set.\n",
    "\n",
    "3. Define a function named `update_inventory` that takes `customer_orders` and `inventory` as parameters. Inside the function, implement the code for updating the inventory dictionary based on the customer orders.\n",
    "\n",
    "4. Define a function named `calculate_order_statistics` that takes `customer_orders` and `products` as parameters. Inside the function, implement the code for calculating the order statistics (total products ordered, and percentage of unique products ordered). The function should return these values.\n",
    "\n",
    "5. Define a function named `print_order_statistics` that takes `order_statistics` as a parameter. Inside the function, implement the code for printing the order statistics.\n",
    "\n",
    "6. Define a function named `print_updated_inventory` that takes `inventory` as a parameter. Inside the function, implement the code for printing the updated inventory.\n",
    "\n",
    "7. Call the functions in the appropriate sequence to execute the program and manage customer orders.\n",
    "\n",
    "Hints for functions:\n",
    "\n",
    "- Consider the input parameters required for each function and their return values.\n",
    "- Utilize function parameters and return values to transfer data between functions.\n",
    "- Test your functions individually to ensure they work correctly.\n",
    "\n",
    "\n"
   ]
  },
  {
   "cell_type": "code",
   "execution_count": 130,
   "id": "8e0e660d-b218-4fa4-aeb5-b184f95daff0",
   "metadata": {},
   "outputs": [],
   "source": [
    "products = [\"t-shirts\",\"mug\",\"hat\",\"book\",\"keychain\"]\n",
    "inventory = {}"
   ]
  },
  {
   "cell_type": "code",
   "execution_count": 131,
   "id": "4e9adf72-8555-4ea0-9cd6-99e52ab1ff32",
   "metadata": {},
   "outputs": [],
   "source": [
    "def initialize_inventory(products):\n",
    "    for items in products:\n",
    "        inventory[items] = int(input(f\"please enter the quantity of the product {items} available:\"))\n",
    "    return inventory \n",
    "   \n",
    "    "
   ]
  },
  {
   "cell_type": "code",
   "execution_count": 132,
   "id": "fb40a8bf-20f3-4b6d-b337-f1fb5e00d959",
   "metadata": {},
   "outputs": [
    {
     "name": "stdin",
     "output_type": "stream",
     "text": [
      "please enter the quantity of the product t-shirts available: 5\n",
      "please enter the quantity of the product mug available: 5\n",
      "please enter the quantity of the product hat available: 5\n",
      "please enter the quantity of the product book available: 5\n",
      "please enter the quantity of the product keychain available: 5\n"
     ]
    }
   ],
   "source": [
    "inventary = initialize_inventory(products)"
   ]
  },
  {
   "cell_type": "code",
   "execution_count": 133,
   "id": "3e49a1a3-85ac-455d-b723-ebdaa246bb00",
   "metadata": {},
   "outputs": [],
   "source": [
    "customer_orders = set()"
   ]
  },
  {
   "cell_type": "code",
   "execution_count": 134,
   "id": "440ba641-3d43-4f9e-891a-fe807aecc76e",
   "metadata": {},
   "outputs": [],
   "source": [
    "def get_customer_orders():\n",
    "    question = \"yes\"\n",
    "    while question == \"yes\":\n",
    "        order = input(\"please enter your oder:\")\n",
    "        customer_orders.add(order)\n",
    "        question = input(\"do you want to add another product?:\")\n",
    "    return customer_orders"
   ]
  },
  {
   "cell_type": "code",
   "execution_count": 135,
   "id": "745cc1f4-15d9-4fd3-9f79-5395eeecb43e",
   "metadata": {},
   "outputs": [
    {
     "name": "stdin",
     "output_type": "stream",
     "text": [
      "please enter your oder: hat\n",
      "do you want to add another product?: no\n"
     ]
    }
   ],
   "source": [
    "customer_orders = get_customer_orders()"
   ]
  },
  {
   "cell_type": "code",
   "execution_count": 139,
   "id": "8fd4e7f1-1ca7-46f1-beaf-5f5ff8a8101a",
   "metadata": {},
   "outputs": [],
   "source": [
    "def update_inventory (customer_orders, inventory): \n",
    "    for product in customer_orders:\n",
    "        if product in inventory and inventory [product] > 0:\n",
    "            inventory[product] -= 1\n",
    "    return inventory\n",
    "                    \n",
    "        "
   ]
  },
  {
   "cell_type": "code",
   "execution_count": 140,
   "id": "cca73cdc-7384-4efc-accf-d486eee7901a",
   "metadata": {},
   "outputs": [],
   "source": [
    "inventory = update_inventory(customer_orders, inventory)"
   ]
  },
  {
   "cell_type": "code",
   "execution_count": 141,
   "id": "db8fec30-abe0-44ba-9b65-eb5b89d7de91",
   "metadata": {},
   "outputs": [
    {
     "data": {
      "text/plain": [
       "{'t-shirts': 5, 'mug': 5, 'hat': 4, 'book': 5, 'keychain': 5}"
      ]
     },
     "execution_count": 141,
     "metadata": {},
     "output_type": "execute_result"
    }
   ],
   "source": [
    "inventory "
   ]
  },
  {
   "cell_type": "code",
   "execution_count": 142,
   "id": "ef49b1fa-4d5c-45f2-871a-304d9e955a22",
   "metadata": {},
   "outputs": [],
   "source": [
    "#Inside the function, implement the code for updating the inventory dictionary based on the customer orders.\n",
    "#crear una \"cajita\" total_product_order\" que esta dentro de la \"maquina\" o def. len function para calcular el total \n",
    "#de algo: lista, set, diccionario\n",
    "#porcentaje. la division del total del customer ordered por el total de productos\n",
    "# importante crear cajitas y luego maquinas para darles funciones y o trabajo\n",
    "\n"
   ]
  },
  {
   "cell_type": "code",
   "execution_count": 143,
   "id": "3a8c28f1-c0a8-4ad5-bef8-cb46c34503c8",
   "metadata": {},
   "outputs": [],
   "source": [
    "def calculate_order_statistics (customer_orders, products):\n",
    "    total_product_ordered = len(customer_orders)\n",
    "    percentage_ordered = (len(customer_orders) / len(products)) * 100\n",
    "    order_statistics = (total_product_ordered, percentage_ordered)\n",
    "    return order_statistics\n",
    "    "
   ]
  },
  {
   "cell_type": "code",
   "execution_count": 144,
   "id": "3b63784a-cba1-46e8-b933-697c5707ce81",
   "metadata": {},
   "outputs": [
    {
     "data": {
      "text/plain": [
       "(1, 20.0)"
      ]
     },
     "execution_count": 144,
     "metadata": {},
     "output_type": "execute_result"
    }
   ],
   "source": [
    "calculate_order_statistics (customer_orders, products)"
   ]
  },
  {
   "cell_type": "code",
   "execution_count": null,
   "id": "8b5c80bd-2c50-4223-985a-756b6ff54332",
   "metadata": {},
   "outputs": [],
   "source": [
    "print_order_statistics"
   ]
  }
 ],
 "metadata": {
  "kernelspec": {
   "display_name": "Python 3 (ipykernel)",
   "language": "python",
   "name": "python3"
  },
  "language_info": {
   "codemirror_mode": {
    "name": "ipython",
    "version": 3
   },
   "file_extension": ".py",
   "mimetype": "text/x-python",
   "name": "python",
   "nbconvert_exporter": "python",
   "pygments_lexer": "ipython3",
   "version": "3.12.7"
  }
 },
 "nbformat": 4,
 "nbformat_minor": 5
}
